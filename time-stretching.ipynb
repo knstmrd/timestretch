{
 "cells": [
  {
   "cell_type": "code",
   "execution_count": 1,
   "metadata": {
    "collapsed": false
   },
   "outputs": [],
   "source": [
    "import numpy as np\n",
    "import stft\n",
    "from scipy.io import wavfile\n",
    "from scipy import signal\n",
    "from matplotlib import pyplot as plt"
   ]
  },
  {
   "cell_type": "code",
   "execution_count": 2,
   "metadata": {
    "collapsed": true
   },
   "outputs": [],
   "source": [
    "%matplotlib inline"
   ]
  },
  {
   "cell_type": "code",
   "execution_count": 3,
   "metadata": {
    "collapsed": true
   },
   "outputs": [],
   "source": [
    "audio = wavfile.read('../audio_examples/piano_drums.wav')\n",
    "sample_rate = audio[0]\n",
    "audio = audio[1]\n",
    "audio_l = audio[:, 0]\n",
    "audio_r = audio[:, 1]"
   ]
  },
  {
   "cell_type": "code",
   "execution_count": 30,
   "metadata": {
    "collapsed": true
   },
   "outputs": [],
   "source": [
    "def welch(M):\n",
    "    if M == 1:\n",
    "        return np.ones(1, 'd')\n",
    "    n = np.arange(0, M)\n",
    "    w = 1 - ((n - (M-1.)/2.) / ((M-1.)/2.)) ** 2\n",
    "    return w"
   ]
  },
  {
   "cell_type": "code",
   "execution_count": 4,
   "metadata": {
    "collapsed": true
   },
   "outputs": [],
   "source": [
    "def write_stereo(a_l, a_r, s_r, name):\n",
    "    a_s = np.zeros([a_l.shape[0], 2], dtype=np.int16)\n",
    "    a_s[:, 0] = a_l\n",
    "    a_s[:, 1] = a_r\n",
    "    print(a_s.shape)\n",
    "    wavfile.write(name, s_r, a_s)"
   ]
  },
  {
   "cell_type": "code",
   "execution_count": 5,
   "metadata": {
    "collapsed": true
   },
   "outputs": [],
   "source": [
    "def write_mono(a_m, s_r, name):\n",
    "    write_stereo(a_m, a_m, s_r, name)"
   ]
  },
  {
   "cell_type": "code",
   "execution_count": 6,
   "metadata": {
    "collapsed": true
   },
   "outputs": [],
   "source": [
    "def basic_stretch_linear(a, w=1.):\n",
    "    \"\"\"\n",
    "    The weight parameter w does not really affect anything\n",
    "    Doubles the array, filling the missing elements with a linear mix of consecutive samples:\n",
    "    out[0] = input[0], out[1] = w * input[0] + (1 - w) * input[1], ...,\n",
    "    \n",
    "    w=1 corresponds to just doubling the array, the last sample is not repeated twice\n",
    "    out[0] = input[0], out[1] = input[0], out[2] = input[1], ...\n",
    "    \n",
    "    w=0 corresponds to just doubling the array, the first sample is not repeated twice\n",
    "    out[0] = input[0], out[1] = input[1], out[2] = input[2], ...\n",
    "    \"\"\"\n",
    "    b = np.zeros(a.shape[0] * 2 - 1)\n",
    "    b[::2] = a[:]\n",
    "    b[1::2] = w * a[:-1] + (1-w) * a[1:]\n",
    "    return b"
   ]
  },
  {
   "cell_type": "code",
   "execution_count": 21,
   "metadata": {
    "collapsed": false
   },
   "outputs": [],
   "source": [
    "def stft_stretch_basic(a, overlap, framelength, window_f,\n",
    "                       w=1.,\n",
    "                       i_overlap=None, i_window_f=None, keep_phase=True):\n",
    "    \"\"\"\n",
    "    The weight parameter w does not really affect anything\n",
    "    Perform a stft with (overlap, framelength, window_f), double the array,\n",
    "    filling the missing elements with a linear mix of consecutive samples\n",
    "    Then perform an istft with (i_overlap, framelength, i_window_f)\n",
    "    if a parameter of the istft is None, the stft parameter will be used in its place\n",
    "    if keep_phase = False, the phase data will be replaced with random data\n",
    "    \"\"\"\n",
    "    if i_overlap is None:\n",
    "        i_overlap = overlap\n",
    "    if i_window_f is None:\n",
    "        i_window_f = window_f\n",
    "    \n",
    "    sp = stft.spectrogram(a, framelength=framelength, window=window_f, overlap=overlap)\n",
    "    out_sp = np.zeros((sp.shape[0], sp.shape[1] * 2 - 1), dtype=np.complex_)  # freq_bins * time_bins\n",
    "    out_sp[:, ::2] = sp\n",
    "    out_sp[:, 1::2] = w * sp[:, :-1] + (1-2) * sp[:, 1:]\n",
    "    if not keep_phase:\n",
    "        phase = np.random.rand(out_sp.shape[0], out_sp.shape[1]) * 2 * 3.141\n",
    "        out_sp.imag = phase\n",
    "    return stft.ispectrogram(out_sp, framelength=framelength, window=i_window_f, overlap=i_overlap)"
   ]
  },
  {
   "cell_type": "code",
   "execution_count": 46,
   "metadata": {
    "collapsed": true
   },
   "outputs": [],
   "source": [
    "def stft_paulstretch(a, overlap, framelength, stretch, window_f=welch):\n",
    "    \"\"\"\n",
    "    Implements the Paul strech algorithm, as described here:\n",
    "    http://www.paulnasca.com/algorithms-created-by-me#TOC-PaulStretch-extreme-sound-stretching-algorithm\n",
    "    \n",
    "    \"\"\"\n",
    "    sp = stft.spectrogram(a, framelength=framelength, window=window_f, overlap=overlap)\n",
    "    out_sp = np.zeros((sp.shape[0], sp.shape[1]), dtype=np.complex_) \n",
    "    out_sp[:, :] = sp\n",
    "    phase = np.random.rand(out_sp.shape[0], out_sp.shape[1]) * 2 * 3.141\n",
    "    out_sp.imag = phase\n",
    "    i_ov = overlap//stretch\n",
    "    return stft.ispectrogram(out_sp, framelength=framelength, window=window_f, overlap=i_ov)"
   ]
  },
  {
   "cell_type": "code",
   "execution_count": 22,
   "metadata": {
    "collapsed": true
   },
   "outputs": [],
   "source": [
    "def make_stft_name(overlap, framelength, w_f_n, w=1,\n",
    "                   i_overlap=None, i_w_f_n=None, keep_phase=True):\n",
    "    name = '../audio_examples/p_d_'\n",
    "    name += 'o' + str(overlap) + '_'\n",
    "    name += 'f' + str(framelength) + '_'\n",
    "    name += w_f_n + '_'\n",
    "    name += 'w' + str(w) + '_'\n",
    "    if i_overlap is not None:\n",
    "        name += 'io' + str(i_overlap) + '_'\n",
    "    if i_w_f_n is not None:\n",
    "        name += i_w_f_n + '_'\n",
    "    if not keep_phase:\n",
    "        name += '_randphase'\n",
    "    name += '.wav'\n",
    "    return name"
   ]
  },
  {
   "cell_type": "code",
   "execution_count": 35,
   "metadata": {
    "collapsed": true
   },
   "outputs": [],
   "source": [
    "def make_paulname(overlap, framelength, stretch, w_f_n):\n",
    "    name = '../audio_examples/p_d_'\n",
    "    name += 'o' + str(overlap) + '_'\n",
    "    name += 'f' + str(framelength) + '_'\n",
    "    name += 's' + str(stretch) + '_'\n",
    "    name += w_f_n + ''\n",
    "    name += '.wav'\n",
    "    return name"
   ]
  },
  {
   "cell_type": "code",
   "execution_count": null,
   "metadata": {
    "collapsed": true
   },
   "outputs": [],
   "source": [
    "# let's test the basic, pitch-shifting stretch function\n",
    "write_stereo(basic_stretch_linear(audio_l),\n",
    "             basic_stretch_linear(audio_r), sample_rate, '../audio_examples/piano_drum_basic_lin_1.wav')"
   ]
  },
  {
   "cell_type": "code",
   "execution_count": 23,
   "metadata": {
    "collapsed": false
   },
   "outputs": [
    {
     "name": "stdout",
     "output_type": "stream",
     "text": [
      "(610304, 2)\n"
     ]
    }
   ],
   "source": [
    "# let's test the stft-based stretch function\n",
    "overlap = 4\n",
    "framelength = 2048\n",
    "window_f = signal.cosine\n",
    "w_f_n = \"cosine\"\n",
    "w = 1  # this does not really affect anything\n",
    "keep_phase = False\n",
    "\n",
    "name = make_stft_name(overlap, framelength, w_f_n, w, keep_phase=keep_phase)\n",
    "write_stereo(stft_stretch_basic(audio_l, overlap, framelength, window_f, w, keep_phase=keep_phase),\n",
    "             stft_stretch_basic(audio_r, overlap, framelength, window_f, 1., keep_phase=keep_phase), sample_rate, name)"
   ]
  },
  {
   "cell_type": "code",
   "execution_count": 50,
   "metadata": {
    "collapsed": false
   },
   "outputs": [
    {
     "name": "stdout",
     "output_type": "stream",
     "text": [
      "(610304, 2)\n"
     ]
    }
   ],
   "source": [
    "# some stereo-expansion can be achieved by using different window functions for the istft\n",
    "overlap = 4\n",
    "framelength = 2048\n",
    "window_f = signal.hann\n",
    "w_f_n = \"cosine\"\n",
    "w = 1  # this does not really affect anything\n",
    "keep_phase = False\n",
    "\n",
    "name = make_stft_name(overlap, framelength, w_f_n, w, keep_phase=keep_phase)\n",
    "write_stereo(stft_stretch_basic(audio_l, overlap, framelength, welch, 1., keep_phase=keep_phase),\n",
    "             stft_stretch_basic(audio_r, overlap, framelength, signal.cosine, 1., keep_phase=keep_phase),\n",
    "             sample_rate, name)"
   ]
  },
  {
   "cell_type": "code",
   "execution_count": 49,
   "metadata": {
    "collapsed": false
   },
   "outputs": [
    {
     "name": "stdout",
     "output_type": "stream",
     "text": [
      "(2441216, 2)\n"
     ]
    }
   ],
   "source": [
    "#let's test the Paul stretch algorithm\n",
    "overlap = 16\n",
    "framelength = 2048\n",
    "stretch = 8\n",
    "\n",
    "name = make_paulname(overlap, framelength, stretch, 'welch')\n",
    "\n",
    "write_stereo(stft_paulstretch(audio_l, overlap, framelength, stretch, welch),\n",
    "             stft_paulstretch(audio_l, overlap, framelength, stretch, welch),\n",
    "             sample_rate, name)"
   ]
  },
  {
   "cell_type": "code",
   "execution_count": null,
   "metadata": {
    "collapsed": true
   },
   "outputs": [],
   "source": []
  }
 ],
 "metadata": {
  "anaconda-cloud": {},
  "kernelspec": {
   "display_name": "Python [conda root]",
   "language": "python",
   "name": "conda-root-py"
  },
  "language_info": {
   "codemirror_mode": {
    "name": "ipython",
    "version": 3
   },
   "file_extension": ".py",
   "mimetype": "text/x-python",
   "name": "python",
   "nbconvert_exporter": "python",
   "pygments_lexer": "ipython3",
   "version": "3.5.2"
  }
 },
 "nbformat": 4,
 "nbformat_minor": 1
}
